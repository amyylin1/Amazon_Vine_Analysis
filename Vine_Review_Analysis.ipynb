{
  "nbformat": 4,
  "nbformat_minor": 0,
  "metadata": {
    "colab": {
      "provenance": [],
      "collapsed_sections": [],
      "authorship_tag": "ABX9TyMPpFo2yP88HgAjDKi08VAv",
      "include_colab_link": true
    },
    "kernelspec": {
      "name": "python3",
      "display_name": "Python 3"
    },
    "language_info": {
      "name": "python"
    }
  },
  "cells": [
    {
      "cell_type": "markdown",
      "metadata": {
        "id": "view-in-github",
        "colab_type": "text"
      },
      "source": [
        "<a href=\"https://colab.research.google.com/github/amyylin1/Amazon_Vine_Analysis/blob/main/Vine_Review_Analysis.ipynb\" target=\"_parent\"><img src=\"https://colab.research.google.com/assets/colab-badge.svg\" alt=\"Open In Colab\"/></a>"
      ]
    },
    {
      "cell_type": "code",
      "execution_count": 1,
      "metadata": {
        "colab": {
          "base_uri": "https://localhost:8080/"
        },
        "id": "4ay3kuyYNkPT",
        "outputId": "e1f92380-a48c-40f2-ef2c-4490766ecf01"
      },
      "outputs": [
        {
          "output_type": "stream",
          "name": "stdout",
          "text": [
            "\r0% [Working]\r            \rHit:1 http://archive.ubuntu.com/ubuntu bionic InRelease\n",
            "\r0% [Connecting to security.ubuntu.com (185.125.190.36)] [Connecting to cloud.r-\r                                                                               \rGet:2 http://archive.ubuntu.com/ubuntu bionic-updates InRelease [88.7 kB]\n",
            "\r0% [2 InRelease 15.6 kB/88.7 kB 18%] [Connecting to security.ubuntu.com (185.12\r0% [1 InRelease gpgv 242 kB] [2 InRelease 15.6 kB/88.7 kB 18%] [Connecting to s\r0% [1 InRelease gpgv 242 kB] [Waiting for headers] [Connecting to security.ubun\r                                                                               \rGet:3 https://cloud.r-project.org/bin/linux/ubuntu bionic-cran40/ InRelease [3,626 B]\n",
            "\r0% [1 InRelease gpgv 242 kB] [Waiting for headers] [Waiting for headers] [Conne\r                                                                               \rGet:4 http://archive.ubuntu.com/ubuntu bionic-backports InRelease [83.3 kB]\n",
            "\r0% [1 InRelease gpgv 242 kB] [4 InRelease 8,395 B/83.3 kB 10%] [Waiting for hea\r0% [1 InRelease gpgv 242 kB] [Waiting for headers] [Connected to developer.down\r                                                                               \rHit:5 http://ppa.launchpad.net/c2d4u.team/c2d4u4.0+/ubuntu bionic InRelease\n",
            "Get:6 http://security.ubuntu.com/ubuntu bionic-security InRelease [88.7 kB]\n",
            "Hit:7 http://ppa.launchpad.net/cran/libgit2/ubuntu bionic InRelease\n",
            "Hit:8 http://ppa.launchpad.net/deadsnakes/ppa/ubuntu bionic InRelease\n",
            "Hit:9 http://ppa.launchpad.net/graphics-drivers/ppa/ubuntu bionic InRelease\n",
            "Get:10 http://archive.ubuntu.com/ubuntu bionic-updates/multiverse amd64 Packages [29.9 kB]\n",
            "Get:11 http://archive.ubuntu.com/ubuntu bionic-updates/main amd64 Packages [3,472 kB]\n",
            "Get:12 http://archive.ubuntu.com/ubuntu bionic-updates/universe amd64 Packages [2,332 kB]\n",
            "Get:13 http://archive.ubuntu.com/ubuntu bionic-updates/restricted amd64 Packages [1,271 kB]\n",
            "Ign:14 https://developer.download.nvidia.com/compute/machine-learning/repos/ubuntu1804/x86_64  InRelease\n",
            "Hit:15 https://developer.download.nvidia.com/compute/cuda/repos/ubuntu1804/x86_64  InRelease\n",
            "Hit:16 https://developer.download.nvidia.com/compute/machine-learning/repos/ubuntu1804/x86_64  Release\n",
            "Get:17 http://security.ubuntu.com/ubuntu bionic-security/restricted amd64 Packages [1,230 kB]\n",
            "Get:18 http://security.ubuntu.com/ubuntu bionic-security/main amd64 Packages [3,040 kB]\n",
            "Get:19 http://security.ubuntu.com/ubuntu bionic-security/universe amd64 Packages [1,554 kB]\n",
            "Fetched 13.2 MB in 4s (2,968 kB/s)\n",
            "Reading package lists... Done\n"
          ]
        }
      ],
      "source": [
        "import os\n",
        "# Find the latest version of spark 3.0  from http://www.apache.org/dist/spark/ and enter as the spark version\n",
        "# For example:\n",
        "# spark_version = 'spark-3.0.3'\n",
        "spark_version = 'spark-3.1.3'\n",
        "os.environ['SPARK_VERSION']=spark_version\n",
        "\n",
        "# Install Spark and Java\n",
        "!apt-get update\n",
        "!apt-get install openjdk-11-jdk-headless -qq > /dev/null\n",
        "!wget -q http://www.apache.org/dist/spark/$SPARK_VERSION/$SPARK_VERSION-bin-hadoop2.7.tgz\n",
        "!tar xf $SPARK_VERSION-bin-hadoop2.7.tgz\n",
        "!pip install -q findspark\n",
        "\n",
        "# Set Environment Variables\n",
        "import os\n",
        "os.environ[\"JAVA_HOME\"] = \"/usr/lib/jvm/java-11-openjdk-amd64\"\n",
        "os.environ[\"SPARK_HOME\"] = f\"/content/{spark_version}-bin-hadoop2.7\"\n",
        "\n",
        "# Start a SparkSession\n",
        "import findspark\n",
        "findspark.init()\n"
      ]
    },
    {
      "cell_type": "code",
      "source": [
        "# Download the Postgres driver that will allow Spark to interact with Postgres.\n",
        "!wget https://jdbc.postgresql.org/download/postgresql-42.2.16.jar"
      ],
      "metadata": {
        "colab": {
          "base_uri": "https://localhost:8080/"
        },
        "id": "RcAkXb6gOV8K",
        "outputId": "d927199e-6fd9-4013-93e8-7d1d3d246188"
      },
      "execution_count": 2,
      "outputs": [
        {
          "output_type": "stream",
          "name": "stdout",
          "text": [
            "--2022-11-10 20:27:22--  https://jdbc.postgresql.org/download/postgresql-42.2.16.jar\n",
            "Resolving jdbc.postgresql.org (jdbc.postgresql.org)... 72.32.157.228, 2001:4800:3e1:1::228\n",
            "Connecting to jdbc.postgresql.org (jdbc.postgresql.org)|72.32.157.228|:443... connected.\n",
            "HTTP request sent, awaiting response... 200 OK\n",
            "Length: 1002883 (979K) [application/java-archive]\n",
            "Saving to: ‘postgresql-42.2.16.jar’\n",
            "\n",
            "postgresql-42.2.16. 100%[===================>] 979.38K  5.54MB/s    in 0.2s    \n",
            "\n",
            "2022-11-10 20:27:23 (5.54 MB/s) - ‘postgresql-42.2.16.jar’ saved [1002883/1002883]\n",
            "\n"
          ]
        }
      ]
    },
    {
      "cell_type": "code",
      "source": [
        "from pyspark.sql import SparkSession\n",
        "spark = SparkSession.builder.appName(\"M16-Amazon-Challenge\").config(\"spark.driver.extraClassPath\",\"/content/postgresql-42.2.16.jar\").getOrCreate()"
      ],
      "metadata": {
        "id": "e3z0Qh2-OYlp"
      },
      "execution_count": 4,
      "outputs": []
    },
    {
      "cell_type": "code",
      "source": [
        "from pyspark import SparkFiles\n",
        "url = \"https://s3.amazonaws.com/amazon-reviews-pds/tsv/amazon_reviews_us_Wireless_v1_00.tsv.gz\"\n",
        "spark.sparkContext.addFile(url)\n",
        "df = spark.read.option(\"encoding\", \"UTF-8\").csv(SparkFiles.get(\"\"), sep=\"\\t\", header=True, inferSchema=True)\n",
        "df.show(5)"
      ],
      "metadata": {
        "colab": {
          "base_uri": "https://localhost:8080/"
        },
        "id": "D4pVSuuoOg4R",
        "outputId": "a05b224f-90a8-47da-f802-1922245cf421"
      },
      "execution_count": 9,
      "outputs": [
        {
          "output_type": "stream",
          "name": "stdout",
          "text": [
            "+-----------+-----------+--------------+----------+--------------+--------------------+----------------+-----------+-------------+-----------+----+-----------------+--------------------+--------------------+-----------+\n",
            "|marketplace|customer_id|     review_id|product_id|product_parent|       product_title|product_category|star_rating|helpful_votes|total_votes|vine|verified_purchase|     review_headline|         review_body|review_date|\n",
            "+-----------+-----------+--------------+----------+--------------+--------------------+----------------+-----------+-------------+-----------+----+-----------------+--------------------+--------------------+-----------+\n",
            "|         US|   16414143|R3W4P9UBGNGH1U|B00YL0EKWE|     852431543|LG G4 Case Hard T...|        Wireless|          2|            1|          3|   N|                Y|Looks good, funct...|2 issues  -  Once...| 2015-08-31|\n",
            "|         US|   50800750|R15V54KBMTQWAY|B00XK95RPQ|     516894650|Selfie Stick Fibl...|        Wireless|          4|            0|          0|   N|                N| A fun little gadget|I’m embarrassed t...| 2015-08-31|\n",
            "|         US|   15184378| RY8I449HNXSVF|B00SXRXUKO|     984297154|Tribe AB40 Water ...|        Wireless|          5|            0|          0|   N|                Y|          Five Stars|  Fits iPhone 6 well| 2015-08-31|\n",
            "|         US|   10203548|R18TLJYCKJFLSR|B009V5X1CE|     279912704|RAVPower® Element...|        Wireless|          5|            0|          0|   N|                Y|       Great charger|Great charger.  I...| 2015-08-31|\n",
            "|         US|     488280|R1NK26SWS53B8Q|B00D93OVF0|     662791300|Fosmon Micro USB ...|        Wireless|          5|            0|          0|   N|                Y|          Five Stars|Great for the pri...| 2015-08-31|\n",
            "+-----------+-----------+--------------+----------+--------------+--------------------+----------------+-----------+-------------+-----------+----+-----------------+--------------------+--------------------+-----------+\n",
            "only showing top 5 rows\n",
            "\n"
          ]
        }
      ]
    },
    {
      "cell_type": "code",
      "source": [
        "from pyspark.sql.functions import to_date\n",
        "# Read in the Review dataset as a DataFrame"
      ],
      "metadata": {
        "id": "Fas7u_o2OmuW"
      },
      "execution_count": 7,
      "outputs": []
    },
    {
      "cell_type": "code",
      "source": [
        "# Create the vine_table. DataFrame\n",
        "vine_df = df.select(['review_id', 'star_rating', 'helpful_votes', 'total_votes', 'vine', 'verified_purchase'])\n",
        "vine_df.show(10)"
      ],
      "metadata": {
        "colab": {
          "base_uri": "https://localhost:8080/"
        },
        "id": "9FJKQ_AyO09B",
        "outputId": "3020b239-9b4b-4a24-f215-65c579c4004a"
      },
      "execution_count": 8,
      "outputs": [
        {
          "output_type": "stream",
          "name": "stdout",
          "text": [
            "+--------------+-----------+-------------+-----------+----+-----------------+\n",
            "|     review_id|star_rating|helpful_votes|total_votes|vine|verified_purchase|\n",
            "+--------------+-----------+-------------+-----------+----+-----------------+\n",
            "|R3W4P9UBGNGH1U|          2|            1|          3|   N|                Y|\n",
            "|R15V54KBMTQWAY|          4|            0|          0|   N|                N|\n",
            "| RY8I449HNXSVF|          5|            0|          0|   N|                Y|\n",
            "|R18TLJYCKJFLSR|          5|            0|          0|   N|                Y|\n",
            "|R1NK26SWS53B8Q|          5|            0|          0|   N|                Y|\n",
            "|R11LOHEDYJALTN|          5|            0|          0|   N|                Y|\n",
            "|R3ALQVQB2P9LA7|          4|            0|          0|   N|                Y|\n",
            "|R3MWLXLNO21PDQ|          5|            0|          0|   N|                Y|\n",
            "|R2L15IS24CX0LI|          5|            0|          0|   N|                Y|\n",
            "|R1DJ8976WPWVZU|          3|            0|          0|   N|                Y|\n",
            "+--------------+-----------+-------------+-----------+----+-----------------+\n",
            "only showing top 10 rows\n",
            "\n"
          ]
        }
      ]
    },
    {
      "cell_type": "code",
      "source": [
        "# load the sql function \n",
        "from pyspark.sql.functions import col\n",
        "\n",
        "# filter for total_vote >= 20\n",
        "vote_df = vine_df.filter(col('total_votes') >= 20)\n",
        "vote_df.show(5)"
      ],
      "metadata": {
        "colab": {
          "base_uri": "https://localhost:8080/"
        },
        "id": "jZl8KHE-O6aK",
        "outputId": "a5c77051-cfb9-4422-ddb3-9d35ba2d680b"
      },
      "execution_count": 13,
      "outputs": [
        {
          "output_type": "stream",
          "name": "stdout",
          "text": [
            "+--------------+-----------+-------------+-----------+----+-----------------+\n",
            "|     review_id|star_rating|helpful_votes|total_votes|vine|verified_purchase|\n",
            "+--------------+-----------+-------------+-----------+----+-----------------+\n",
            "|R2WOW0TURNXB26|          3|           54|         59|   N|                Y|\n",
            "|R13VL62Y2HBQ0B|          5|           15|         21|   N|                Y|\n",
            "|R22G55KAPZKJQV|          4|           20|         21|   N|                Y|\n",
            "|R1610PGTJS7G3N|          2|           28|         44|   N|                Y|\n",
            "| RLQL04BL0QXOJ|          4|           45|         47|   N|                Y|\n",
            "+--------------+-----------+-------------+-----------+----+-----------------+\n",
            "only showing top 5 rows\n",
            "\n"
          ]
        }
      ]
    },
    {
      "cell_type": "code",
      "source": [
        "vote_df.count()"
      ],
      "metadata": {
        "colab": {
          "base_uri": "https://localhost:8080/"
        },
        "id": "7gZV6XcOfeI4",
        "outputId": "726226e0-18bd-477a-c3a3-dab0374525e3"
      },
      "execution_count": 15,
      "outputs": [
        {
          "output_type": "execute_result",
          "data": {
            "text/plain": [
              "72587"
            ]
          },
          "metadata": {},
          "execution_count": 15
        }
      ]
    },
    {
      "cell_type": "code",
      "source": [
        "# create a new df to retrieve all rows where 'helpful_votes'/'total_votes' >= 0.5\n",
        "helpful_df = vote_df.filter(col('helpful_votes')/col('total_votes') >= 0.5) \n",
        "helpful_df.show(5)"
      ],
      "metadata": {
        "colab": {
          "base_uri": "https://localhost:8080/"
        },
        "id": "L0ypJOS7vYyI",
        "outputId": "88c7c4e1-6f26-47b5-8447-1e2820a1e1ad"
      },
      "execution_count": 26,
      "outputs": [
        {
          "output_type": "stream",
          "name": "stdout",
          "text": [
            "+--------------+-----------+-------------+-----------+----+-----------------+\n",
            "|     review_id|star_rating|helpful_votes|total_votes|vine|verified_purchase|\n",
            "+--------------+-----------+-------------+-----------+----+-----------------+\n",
            "|R2WOW0TURNXB26|          3|           54|         59|   N|                Y|\n",
            "|R13VL62Y2HBQ0B|          5|           15|         21|   N|                Y|\n",
            "|R22G55KAPZKJQV|          4|           20|         21|   N|                Y|\n",
            "|R1610PGTJS7G3N|          2|           28|         44|   N|                Y|\n",
            "| RLQL04BL0QXOJ|          4|           45|         47|   N|                Y|\n",
            "+--------------+-----------+-------------+-----------+----+-----------------+\n",
            "only showing top 5 rows\n",
            "\n"
          ]
        }
      ]
    },
    {
      "cell_type": "code",
      "source": [
        "helpful_df.count()"
      ],
      "metadata": {
        "colab": {
          "base_uri": "https://localhost:8080/"
        },
        "id": "qHFN7hh4x3yg",
        "outputId": "a7486605-caf9-4014-cae4-0c3c3c12d05c"
      },
      "execution_count": 28,
      "outputs": [
        {
          "output_type": "execute_result",
          "data": {
            "text/plain": [
              "65581"
            ]
          },
          "metadata": {},
          "execution_count": 28
        }
      ]
    },
    {
      "cell_type": "code",
      "source": [
        "# filter the df and create a new df that retrieves all rows where review was paid\n",
        "paid_df = helpful_df.filter(col('vine') == 'Y')\n",
        "paid_df.show(5)"
      ],
      "metadata": {
        "colab": {
          "base_uri": "https://localhost:8080/"
        },
        "id": "T0Rm3nvewvtf",
        "outputId": "a14aaef9-8a70-4b7c-9a9f-f2f0181729f4"
      },
      "execution_count": 25,
      "outputs": [
        {
          "output_type": "stream",
          "name": "stdout",
          "text": [
            "+--------------+-----------+-------------+-----------+----+-----------------+\n",
            "|     review_id|star_rating|helpful_votes|total_votes|vine|verified_purchase|\n",
            "+--------------+-----------+-------------+-----------+----+-----------------+\n",
            "|R1MAOLI5FJHAFM|          4|          249|        261|   Y|                N|\n",
            "| R9PYAUDIBJVEC|          4|           12|         22|   Y|                N|\n",
            "| R6V9SHMMG5M8F|          5|          101|        110|   Y|                N|\n",
            "|R37PVLT6ELL5J4|          4|          181|        209|   Y|                N|\n",
            "| R2FSFGWZF24V9|          4|           50|         51|   Y|                N|\n",
            "+--------------+-----------+-------------+-----------+----+-----------------+\n",
            "only showing top 5 rows\n",
            "\n"
          ]
        }
      ]
    },
    {
      "cell_type": "code",
      "source": [
        "# paid reviews\n",
        "paid_df.count()"
      ],
      "metadata": {
        "colab": {
          "base_uri": "https://localhost:8080/"
        },
        "id": "GKcYLlbQwvmT",
        "outputId": "e7fd8b4d-9b21-42ba-f5ba-d164193cb4c2"
      },
      "execution_count": 29,
      "outputs": [
        {
          "output_type": "execute_result",
          "data": {
            "text/plain": [
              "613"
            ]
          },
          "metadata": {},
          "execution_count": 29
        }
      ]
    },
    {
      "cell_type": "code",
      "source": [
        "# filter the df and create a new df that retrieves all rows that where not paid \n",
        "unpaid_df = helpful_df.filter(col('vine') == 'N')\n",
        "unpaid_df.show(5)"
      ],
      "metadata": {
        "colab": {
          "base_uri": "https://localhost:8080/"
        },
        "id": "g3qoPltNyMre",
        "outputId": "80ab4e73-72ad-4d1e-9048-0b8f5e6c795d"
      },
      "execution_count": 32,
      "outputs": [
        {
          "output_type": "stream",
          "name": "stdout",
          "text": [
            "+--------------+-----------+-------------+-----------+----+-----------------+\n",
            "|     review_id|star_rating|helpful_votes|total_votes|vine|verified_purchase|\n",
            "+--------------+-----------+-------------+-----------+----+-----------------+\n",
            "|R2WOW0TURNXB26|          3|           54|         59|   N|                Y|\n",
            "|R13VL62Y2HBQ0B|          5|           15|         21|   N|                Y|\n",
            "|R22G55KAPZKJQV|          4|           20|         21|   N|                Y|\n",
            "|R1610PGTJS7G3N|          2|           28|         44|   N|                Y|\n",
            "| RLQL04BL0QXOJ|          4|           45|         47|   N|                Y|\n",
            "+--------------+-----------+-------------+-----------+----+-----------------+\n",
            "only showing top 5 rows\n",
            "\n"
          ]
        }
      ]
    },
    {
      "cell_type": "code",
      "source": [
        "# unpaid reviews\n",
        "unpaid_df.count()"
      ],
      "metadata": {
        "colab": {
          "base_uri": "https://localhost:8080/"
        },
        "id": "pBsEh0H1yiI2",
        "outputId": "b4b0700d-fec6-47b6-b786-57e863b754dd"
      },
      "execution_count": 33,
      "outputs": [
        {
          "output_type": "execute_result",
          "data": {
            "text/plain": [
              "64968"
            ]
          },
          "metadata": {},
          "execution_count": 33
        }
      ]
    },
    {
      "cell_type": "code",
      "source": [
        "# total # of 5-star reviews\n",
        "star5_df = helpful_df.filter(col('star_rating') == 5)\n",
        "star5_df.show(5)\n",
        "star5_df.count()"
      ],
      "metadata": {
        "colab": {
          "base_uri": "https://localhost:8080/"
        },
        "id": "JEFVUwywyrY_",
        "outputId": "9b8abd8c-cbaa-4cf5-89e0-c04e128e31c0"
      },
      "execution_count": 65,
      "outputs": [
        {
          "output_type": "stream",
          "name": "stdout",
          "text": [
            "+--------------+-----------+-------------+-----------+----+-----------------+\n",
            "|     review_id|star_rating|helpful_votes|total_votes|vine|verified_purchase|\n",
            "+--------------+-----------+-------------+-----------+----+-----------------+\n",
            "|R13VL62Y2HBQ0B|          5|           15|         21|   N|                Y|\n",
            "|R111DJA10Y6CMU|          5|           26|         39|   N|                Y|\n",
            "|R2EE2TR4MRDV0U|          5|           53|         59|   N|                Y|\n",
            "| RD4A80I5JDHED|          5|           69|         77|   N|                N|\n",
            "|R1D3NR5GREEXXJ|          5|           57|         58|   N|                Y|\n",
            "+--------------+-----------+-------------+-----------+----+-----------------+\n",
            "only showing top 5 rows\n",
            "\n"
          ]
        },
        {
          "output_type": "execute_result",
          "data": {
            "text/plain": [
              "30765"
            ]
          },
          "metadata": {},
          "execution_count": 65
        }
      ]
    },
    {
      "cell_type": "code",
      "source": [
        "# % total unpaid 5-star reviews\n",
        "unpaid_5_df = unpaid_df.filter(col('star_rating') == 5)\n",
        "unpaid_5_df.show(5)\n",
        "unpaid_5_df.count()"
      ],
      "metadata": {
        "colab": {
          "base_uri": "https://localhost:8080/"
        },
        "id": "50nrQjwdzckZ",
        "outputId": "ff775337-1348-4b08-c54e-069b838bc2d8"
      },
      "execution_count": 48,
      "outputs": [
        {
          "output_type": "stream",
          "name": "stdout",
          "text": [
            "+--------------+-----------+-------------+-----------+----+-----------------+\n",
            "|     review_id|star_rating|helpful_votes|total_votes|vine|verified_purchase|\n",
            "+--------------+-----------+-------------+-----------+----+-----------------+\n",
            "|R13VL62Y2HBQ0B|          5|           15|         21|   N|                Y|\n",
            "|R111DJA10Y6CMU|          5|           26|         39|   N|                Y|\n",
            "|R2EE2TR4MRDV0U|          5|           53|         59|   N|                Y|\n",
            "| RD4A80I5JDHED|          5|           69|         77|   N|                N|\n",
            "|R1D3NR5GREEXXJ|          5|           57|         58|   N|                Y|\n",
            "+--------------+-----------+-------------+-----------+----+-----------------+\n",
            "only showing top 5 rows\n",
            "\n"
          ]
        },
        {
          "output_type": "execute_result",
          "data": {
            "text/plain": [
              "30543"
            ]
          },
          "metadata": {},
          "execution_count": 48
        }
      ]
    },
    {
      "cell_type": "code",
      "source": [
        "# % total paid 5-star reviews\n",
        "paid_5_df = paid_df.filter(col('star_rating') == 5)\n",
        "paid_5_df.show(5)\n",
        "paid_5_df.count()"
      ],
      "metadata": {
        "colab": {
          "base_uri": "https://localhost:8080/"
        },
        "id": "d2WupiXw1d8-",
        "outputId": "0a55b54f-031c-4509-eec4-62506fb6978e"
      },
      "execution_count": 50,
      "outputs": [
        {
          "output_type": "stream",
          "name": "stdout",
          "text": [
            "+--------------+-----------+-------------+-----------+----+-----------------+\n",
            "|     review_id|star_rating|helpful_votes|total_votes|vine|verified_purchase|\n",
            "+--------------+-----------+-------------+-----------+----+-----------------+\n",
            "| R6V9SHMMG5M8F|          5|          101|        110|   Y|                N|\n",
            "|R3SRW1E8J56IGV|          5|          262|        281|   Y|                N|\n",
            "|R2WBPX441TH495|          5|          202|        221|   Y|                N|\n",
            "|R2BYBSYHS66ZN8|          5|          109|        114|   Y|                N|\n",
            "|R2IXC6U7W4OCQ9|          5|          185|        201|   Y|                N|\n",
            "+--------------+-----------+-------------+-----------+----+-----------------+\n",
            "only showing top 5 rows\n",
            "\n"
          ]
        },
        {
          "output_type": "execute_result",
          "data": {
            "text/plain": [
              "222"
            ]
          },
          "metadata": {},
          "execution_count": 50
        }
      ]
    },
    {
      "cell_type": "code",
      "source": [
        "# % of paid 5-star reviews\n",
        "paid_5_perc = paid_5_df.count() / star5_df.count() * 100\n",
        "print('The percentage of paid review is %f ' % paid_5_perc + ' %. ')"
      ],
      "metadata": {
        "colab": {
          "base_uri": "https://localhost:8080/"
        },
        "id": "zc5PC0RV8CbA",
        "outputId": "c48230ca-3d60-41c3-b11e-e63861aea318"
      },
      "execution_count": 67,
      "outputs": [
        {
          "output_type": "stream",
          "name": "stdout",
          "text": [
            "The percentage of paid review is 0.721599  %. \n"
          ]
        }
      ]
    },
    {
      "cell_type": "code",
      "source": [
        "# % of unpaid 5-star reviews\n",
        "unpaid_5_perc = unpaid_5_df.count() / star5_df.count() * 100\n",
        "print('The percentage of unapid review is %f' %unpaid_5_perc + ' %')"
      ],
      "metadata": {
        "colab": {
          "base_uri": "https://localhost:8080/"
        },
        "id": "9z-g8u0C8iu3",
        "outputId": "f8f1a5a0-bed9-4a67-e8c9-09a54988e30e"
      },
      "execution_count": 68,
      "outputs": [
        {
          "output_type": "stream",
          "name": "stdout",
          "text": [
            "The percentage of unapid review is 99.278401\n"
          ]
        }
      ]
    }
  ]
}